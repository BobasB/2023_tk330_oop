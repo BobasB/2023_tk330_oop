{
 "cells": [
  {
   "cell_type": "code",
   "execution_count": 2,
   "metadata": {},
   "outputs": [
    {
     "name": "stdout",
     "output_type": "stream",
     "text": [
      "Ура Я здав екзамен\n"
     ]
    }
   ],
   "source": [
    "class MyClass:\n",
    "    def __init__(self, a, b) -> None:\n",
    "        self.a = a\n",
    "        self.b = b\n",
    "    \n",
    "    def my_method(self):\n",
    "        return self.a + self.b\n",
    "    \n",
    "    @property\n",
    "    def my_property(self):\n",
    "        return len(self.a)\n",
    "\n",
    "print(MyClass(\"Ура\", \" Я здав екзамен\").my_method())"
   ]
  }
 ],
 "metadata": {
  "kernelspec": {
   "display_name": "Python 3",
   "language": "python",
   "name": "python3"
  },
  "language_info": {
   "codemirror_mode": {
    "name": "ipython",
    "version": 3
   },
   "file_extension": ".py",
   "mimetype": "text/x-python",
   "name": "python",
   "nbconvert_exporter": "python",
   "pygments_lexer": "ipython3",
   "version": "3.11.5"
  }
 },
 "nbformat": 4,
 "nbformat_minor": 2
}
