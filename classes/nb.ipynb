{
 "cells": [
  {
   "cell_type": "markdown",
   "metadata": {},
   "source": [
    "## Створення та робота з класами"
   ]
  },
  {
   "cell_type": "code",
   "execution_count": 15,
   "metadata": {},
   "outputs": [
    {
     "name": "stdout",
     "output_type": "stream",
     "text": [
      "5 11\n"
     ]
    }
   ],
   "source": [
    "a = int(5)\n",
    "b = a.__add__(6)\n",
    "print(a, b)"
   ]
  },
  {
   "cell_type": "code",
   "execution_count": 39,
   "metadata": {},
   "outputs": [],
   "source": [
    "class BasicPet():\n",
    "    \"\"\"Це буде пустий клас для порівнянння\"\"\"\n",
    "    pass\n",
    "\n",
    "\n",
    "class Pet():\n",
    "    \"\"\"Клас для опису домашніх тваринок.\n",
    "    \n",
    "    breed: порода домашньої тваринки;\n",
    "    \n",
    "    name: імя тваринки;\n",
    "    \"\"\"\n",
    "    def __init__(self, breed:str, name:str) -> None:\n",
    "        self.breed = breed\n",
    "        self.name = name\n",
    "    \n",
    "    def __str__(self) -> str:\n",
    "        return f\"Домашній улюбленець {self.breed} на імя {self.name}\"\n",
    "    \n",
    "    def __len__(self) -> int:\n",
    "        \"\"\"Виклик даного методу порахує кількість букв в імені тваринки.\"\"\"\n",
    "        return len(self.name)\n",
    "    \n",
    "    def __repr__(self) -> str:\n",
    "        return f\"Це представлення обєкту з тваринкою {self.breed} на імя {self.name}\""
   ]
  },
  {
   "cell_type": "code",
   "execution_count": 40,
   "metadata": {},
   "outputs": [],
   "source": [
    "a = BasicPet()\n",
    "b = Pet(\"Собака\", \"Рекс\")"
   ]
  },
  {
   "cell_type": "markdown",
   "metadata": {},
   "source": [
    "> ми зробили перевизначення методу __str__ і тепер представлення обєкту при виклику функції print буде не просто обєкт в памяті а його опис так як ми задумали"
   ]
  },
  {
   "cell_type": "code",
   "execution_count": 41,
   "metadata": {},
   "outputs": [
    {
     "name": "stdout",
     "output_type": "stream",
     "text": [
      "<__main__.BasicPet object at 0x00000226F4CC68D0> Домашній улюбленець Собака на імя Рекс\n"
     ]
    }
   ],
   "source": [
    "print(a, b)"
   ]
  },
  {
   "cell_type": "markdown",
   "metadata": {},
   "source": [
    "> тут також ми визначили як буде здійснюватись виклик функціх len по відношенню до нашого обєкта"
   ]
  },
  {
   "cell_type": "code",
   "execution_count": 34,
   "metadata": {},
   "outputs": [
    {
     "data": {
      "text/plain": [
       "4"
      ]
     },
     "execution_count": 34,
     "metadata": {},
     "output_type": "execute_result"
    }
   ],
   "source": [
    "#len(a) # Цей код буде видавати помилку, тому що у базовому класі ми не визначили що повертити як довжину\n",
    "len(b)"
   ]
  },
  {
   "cell_type": "code",
   "execution_count": 44,
   "metadata": {},
   "outputs": [
    {
     "name": "stdout",
     "output_type": "stream",
     "text": [
      "<__main__.BasicPet object at 0x00000226F4CC68D0> Це представлення обєкту з тваринкою Собака на імя Рекс\n"
     ]
    }
   ],
   "source": [
    "print(repr(a), repr(b))"
   ]
  }
 ],
 "metadata": {
  "kernelspec": {
   "display_name": "Python 3",
   "language": "python",
   "name": "python3"
  },
  "language_info": {
   "codemirror_mode": {
    "name": "ipython",
    "version": 3
   },
   "file_extension": ".py",
   "mimetype": "text/x-python",
   "name": "python",
   "nbconvert_exporter": "python",
   "pygments_lexer": "ipython3",
   "version": "3.11.5"
  }
 },
 "nbformat": 4,
 "nbformat_minor": 2
}
