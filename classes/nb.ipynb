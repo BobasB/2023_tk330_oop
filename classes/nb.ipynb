{
 "cells": [
  {
   "cell_type": "markdown",
   "metadata": {},
   "source": [
    "## Створення та робота з класами"
   ]
  },
  {
   "cell_type": "code",
   "execution_count": 1,
   "metadata": {},
   "outputs": [
    {
     "name": "stdout",
     "output_type": "stream",
     "text": [
      "5 11\n"
     ]
    }
   ],
   "source": [
    "a = int(5)\n",
    "b = a.__add__(6)\n",
    "print(a, b)"
   ]
  },
  {
   "cell_type": "code",
   "execution_count": 42,
   "metadata": {},
   "outputs": [],
   "source": [
    "class BasicPet():\n",
    "    \"\"\"Це буде пустий клас для порівнянння\"\"\"\n",
    "    pass\n",
    "\n",
    "\n",
    "class Pet():\n",
    "    \"\"\"Клас для опису домашніх тваринок.\n",
    "    \n",
    "    breed: порода домашньої тваринки;\n",
    "    \n",
    "    name: імя тваринки;\n",
    "    \"\"\"\n",
    "    def __init__(self, breed:str, name:str) -> None:\n",
    "        self.breed = breed\n",
    "        self.name = name\n",
    "    \n",
    "    def __str__(self) -> str:\n",
    "        return f\"Домашній улюбленець {self.breed} на імя {self.name}\"\n",
    "    \n",
    "    def __len__(self) -> int:\n",
    "        \"\"\"Виклик даного методу порахує кількість букв в імені тваринки.\"\"\"\n",
    "        return len(self.name)\n",
    "    \n",
    "    def __repr__(self) -> str:\n",
    "        return f\"Це представлення обєкту з тваринкою {self.breed} на імя {self.name}\"\n",
    "    \n",
    "    def __add__(self, obj):\n",
    "        if isinstance(obj, Pet):\n",
    "            print(f\"{self.breed} по імені {self.name} подружився з {obj.breed} {obj.name}\")\n",
    "        elif isinstance(obj, str):\n",
    "            print(f\"Домашній улюбленець {self.name} створює звуки: {obj}\")\n",
    "        elif isinstance(obj, (int, float)):\n",
    "            print(f\"{self.breed} пробігла {obj} метрів.\")\n",
    "        else:\n",
    "            print(f\"{obj} не може взаємодіяти з {self.breed}\")\n",
    "    \n",
    "    def __radd__(self, obj):\n",
    "        print(f\"Праве додавання між {self} та {obj}\")\n",
    "    \n",
    "    def __sub__(self, obj):\n",
    "        print(\"Робимо віднімання\")\n",
    "    \n",
    "    def __mul__(self, obj):\n",
    "        print(\"Робимо множення\")\n",
    "    \n",
    "    def __truediv__(self, obj):\n",
    "        print(\"Робимо ділення\")\n",
    "        if isinstance(obj, (int, float)):\n",
    "            print(\"Домашніх улюбленців ділити на числа не можна!\")\n",
    "    \n",
    "    "
   ]
  },
  {
   "cell_type": "code",
   "execution_count": 43,
   "metadata": {},
   "outputs": [],
   "source": [
    "a = BasicPet()\n",
    "b = Pet(\"Собака\", \"Рекс\")\n",
    "c = Pet(\"Кіт\", \"Мурка\")"
   ]
  },
  {
   "cell_type": "markdown",
   "metadata": {},
   "source": [
    "> ми зробили перевизначення методу __str__ і тепер представлення обєкту при виклику функції print буде не просто обєкт в памяті а його опис так як ми задумали"
   ]
  },
  {
   "cell_type": "code",
   "execution_count": 4,
   "metadata": {},
   "outputs": [
    {
     "name": "stdout",
     "output_type": "stream",
     "text": [
      "<__main__.BasicPet object at 0x0000023AFF67C1D0> Домашній улюбленець Собака на імя Рекс\n"
     ]
    }
   ],
   "source": [
    "print(a, b)"
   ]
  },
  {
   "cell_type": "markdown",
   "metadata": {},
   "source": [
    "> тут також ми визначили як буде здійснюватись виклик функціх len по відношенню до нашого обєкта"
   ]
  },
  {
   "cell_type": "code",
   "execution_count": 5,
   "metadata": {},
   "outputs": [
    {
     "data": {
      "text/plain": [
       "4"
      ]
     },
     "execution_count": 5,
     "metadata": {},
     "output_type": "execute_result"
    }
   ],
   "source": [
    "#len(a) # Цей код буде видавати помилку, тому що у базовому класі ми не визначили що повертити як довжину\n",
    "len(b)"
   ]
  },
  {
   "cell_type": "code",
   "execution_count": 6,
   "metadata": {},
   "outputs": [
    {
     "name": "stdout",
     "output_type": "stream",
     "text": [
      "<__main__.BasicPet object at 0x0000023AFF67C1D0> Це представлення обєкту з тваринкою Собака на імя Рекс\n"
     ]
    }
   ],
   "source": [
    "print(repr(a), repr(b))"
   ]
  },
  {
   "cell_type": "code",
   "execution_count": 20,
   "metadata": {},
   "outputs": [
    {
     "name": "stdout",
     "output_type": "stream",
     "text": [
      "Собака по імені Рекс подружився з Кіт Мурка\n"
     ]
    }
   ],
   "source": [
    "b + c"
   ]
  },
  {
   "cell_type": "code",
   "execution_count": 31,
   "metadata": {},
   "outputs": [
    {
     "name": "stdout",
     "output_type": "stream",
     "text": [
      "Праве додавання між Домашній улюбленець Собака на імя Рекс та <__main__.BasicPet object at 0x0000023AFF668890>\n",
      "<__main__.BasicPet object at 0x0000023AFF668890> не може взаємодіяти з Собака\n",
      "<__main__.BasicPet object at 0x0000023AFF668890> не може взаємодіяти з Собака\n"
     ]
    }
   ],
   "source": [
    "# Даний код буде створювати помилку бо клас BasicPet немає визначеного методу __radd__\n",
    "# Але після створенняцього методу у класі Pet ми зможемо здійснити праве додавання\n",
    "a + b\n",
    "# а от обернена операція вже буде виконуватись\n",
    "b + a\n",
    "# Ці два виклики є ідентичними\n",
    "b.__add__(a)"
   ]
  },
  {
   "cell_type": "code",
   "execution_count": 41,
   "metadata": {},
   "outputs": [
    {
     "name": "stdout",
     "output_type": "stream",
     "text": [
      "Робимо ділення\n",
      "Домашніх улюбленців ділити на числа не можна!\n"
     ]
    }
   ],
   "source": [
    "b / 2"
   ]
  },
  {
   "cell_type": "code",
   "execution_count": 46,
   "metadata": {},
   "outputs": [
    {
     "name": "stdout",
     "output_type": "stream",
     "text": [
      "Домашній улюбленець Рекс створює звуки: Гав\n",
      "Собака пробігла 5 метрів.\n",
      "<__main__.BasicPet object at 0x0000023AFF680290> не може взаємодіяти з Собака\n"
     ]
    }
   ],
   "source": [
    "b + \"Гав\"\n",
    "\n",
    "b + 5\n",
    "\n",
    "b + a"
   ]
  }
 ],
 "metadata": {
  "kernelspec": {
   "display_name": "Python 3",
   "language": "python",
   "name": "python3"
  },
  "language_info": {
   "codemirror_mode": {
    "name": "ipython",
    "version": 3
   },
   "file_extension": ".py",
   "mimetype": "text/x-python",
   "name": "python",
   "nbconvert_exporter": "python",
   "pygments_lexer": "ipython3",
   "version": "3.11.5"
  }
 },
 "nbformat": 4,
 "nbformat_minor": 2
}
