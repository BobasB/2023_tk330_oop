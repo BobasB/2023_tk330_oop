{
 "cells": [
  {
   "cell_type": "markdown",
   "metadata": {},
   "source": [
    "## Створення та робота з класами"
   ]
  },
  {
   "cell_type": "code",
   "execution_count": 29,
   "metadata": {},
   "outputs": [
    {
     "name": "stdout",
     "output_type": "stream",
     "text": [
      "5 11\n"
     ]
    }
   ],
   "source": [
    "a = int(5)\n",
    "b = a.__add__(6)\n",
    "print(a, b)"
   ]
  },
  {
   "cell_type": "markdown",
   "metadata": {},
   "source": [
    "# Стовпи в ООП програмуванні\n",
    "- інкапсуляція - приховування даних всередині класу, приватні атрибути та методи;\n",
    "- наслідування - це можливість створення батьківських класів та поширення його функціоналу у похідні класи;\n",
    "- поліморфізм - ми можемо пеервизначати методи в похідних класах, тобто в різних класах той самий метод буде виконуватись по різному;\n",
    "- абстракція - використання функцій та методів класу не задумуючись про їх реалізацію, або логіку коду який реалізує даний функціонал;"
   ]
  },
  {
   "cell_type": "code",
   "execution_count": 30,
   "metadata": {},
   "outputs": [],
   "source": [
    "class BasicPet():\n",
    "    \"\"\"Це буде пустий клас для порівнянння\"\"\"\n",
    "    pass\n",
    "\n",
    "\n",
    "class Pet(BasicPet):\n",
    "    \"\"\"Клас для опису домашніх тваринок.\n",
    "    \n",
    "    breed: порода домашньої тваринки;\n",
    "    \n",
    "    name: імя тваринки;\n",
    "    \"\"\"\n",
    "    def __init__(self, breed:str, name:str) -> None:\n",
    "        self.breed = breed\n",
    "        self.name = name\n",
    "        self._secret = f\"{breed} звати {name}\"\n",
    "        self.__super_secret = \"Це внутрішній супер секретний атрибут\"\n",
    "    \n",
    "    def say(self):\n",
    "        return f\"{self.breed} не вміє говорити.\"\n",
    "\n",
    "    @property\n",
    "    def super_secret(self):\n",
    "        # атрибути з подвійним підкресленням можуть бути використані тільки всередині класу\n",
    "        return self.__super_secret\n",
    "    \n",
    "    def _internal(self):\n",
    "        return \"Це методи для внутрішнього використання\"\n",
    "    \n",
    "    def __super_internal(self):\n",
    "        return \"Повністю прихований метод\"\n",
    "    \n",
    "    def expose_internals(self):\n",
    "        return f\"Тут можна доступатись до: <<{self._internal()}>> та <<{self.__super_internal()}>>\"\n",
    "    \n",
    "    def __str__(self) -> str:\n",
    "        return f\"Домашній улюбленець {self.breed} на імя {self.name}\"\n",
    "    \n",
    "    def __len__(self) -> int:\n",
    "        \"\"\"Виклик даного методу порахує кількість букв в імені тваринки.\"\"\"\n",
    "        return len(self.name)\n",
    "    \n",
    "    def __repr__(self) -> str:\n",
    "        return f\"Це представлення обєкту з тваринкою {self.breed} на імя {self.name}\"\n",
    "    \n",
    "    def __add__(self, obj):\n",
    "        if isinstance(obj, Pet):\n",
    "            print(f\"{self.breed} по імені {self.name} подружився з {obj.breed} {obj.name}\")\n",
    "        elif isinstance(obj, str):\n",
    "            print(f\"Домашній улюбленець {self.name} створює звуки: {obj}\")\n",
    "        elif isinstance(obj, (int, float)):\n",
    "            print(f\"{self.breed} пробігла {obj} метрів.\")\n",
    "        else:\n",
    "            print(f\"{obj} не може взаємодіяти з {self.breed}\")\n",
    "    \n",
    "    def __radd__(self, obj):\n",
    "        print(f\"Праве додавання між {self} та {obj}\")\n",
    "    \n",
    "    def __sub__(self, obj):\n",
    "        print(\"Робимо віднімання\")\n",
    "    \n",
    "    def __mul__(self, obj):\n",
    "        print(\"Робимо множення\")\n",
    "    \n",
    "    def __truediv__(self, obj):\n",
    "        print(\"Робимо ділення\")\n",
    "        if isinstance(obj, (int, float)):\n",
    "            print(\"Домашніх улюбленців ділити на числа не можна!\")\n",
    "    \n",
    "class Dog(Pet):\n",
    "    def __init__(self, breed: str, name: str) -> None:\n",
    "        super().__init__(breed, name)\n",
    "        self.__super_secret = f\"{breed} погриз щось в хаті.\"\n",
    "        \n",
    "    def bark(self):\n",
    "        return f\"{self.name} починає гавкати. Гав-Гав\"\n",
    "\n",
    "    def say(self):\n",
    "        return f\"{self.breed} вміє гавкати.\"\n",
    "    \n",
    "    @property\n",
    "    def super_secret(self):\n",
    "        \"\"\"Спробуємо скласти батьківський атрибут з внутрішнім\"\"\"\n",
    "        return f\"Секрет базового класу: {super().super_secret} і Секрет цього класу: {self.__super_secret}\"\n",
    "\n",
    "class Cat(Pet):\n",
    "    def __init__(self, breed: str, name: str) -> None:\n",
    "        super().__init__(breed, name)\n",
    "    \n",
    "    def meow(self):\n",
    "        return f\"{self.name} починає мявкати. Мяууу\"\n",
    "    \n",
    "    def say(self):\n",
    "        return f\"{self.breed} вміє мявкати.\""
   ]
  },
  {
   "cell_type": "code",
   "execution_count": 31,
   "metadata": {},
   "outputs": [],
   "source": [
    "a = BasicPet()\n",
    "p = Pet(\"Собака\", \"Шарік\")\n",
    "b = Dog(\"Собака\", \"Рекс\")\n",
    "c = Cat(\"Кіт\", \"Мурка\")"
   ]
  },
  {
   "cell_type": "markdown",
   "metadata": {},
   "source": [
    "> ми зробили перевизначення методу __str__ і тепер представлення обєкту при виклику функції print буде не просто обєкт в памяті а його опис так як ми задумали"
   ]
  },
  {
   "cell_type": "code",
   "execution_count": 32,
   "metadata": {},
   "outputs": [
    {
     "name": "stdout",
     "output_type": "stream",
     "text": [
      "<__main__.BasicPet object at 0x00000197D4056CD0> Домашній улюбленець Собака на імя Рекс\n"
     ]
    }
   ],
   "source": [
    "print(a, b)"
   ]
  },
  {
   "cell_type": "markdown",
   "metadata": {},
   "source": [
    "> тут також ми визначили як буде здійснюватись виклик функціх len по відношенню до нашого обєкта"
   ]
  },
  {
   "cell_type": "code",
   "execution_count": 33,
   "metadata": {},
   "outputs": [
    {
     "data": {
      "text/plain": [
       "4"
      ]
     },
     "execution_count": 33,
     "metadata": {},
     "output_type": "execute_result"
    }
   ],
   "source": [
    "#len(a) # Цей код буде видавати помилку, тому що у базовому класі ми не визначили що повертити як довжину\n",
    "len(b)"
   ]
  },
  {
   "cell_type": "code",
   "execution_count": 34,
   "metadata": {},
   "outputs": [
    {
     "name": "stdout",
     "output_type": "stream",
     "text": [
      "<__main__.BasicPet object at 0x00000197D4056CD0> Це представлення обєкту з тваринкою Собака на імя Рекс\n"
     ]
    }
   ],
   "source": [
    "print(repr(a), repr(b))"
   ]
  },
  {
   "cell_type": "code",
   "execution_count": 35,
   "metadata": {},
   "outputs": [
    {
     "name": "stdout",
     "output_type": "stream",
     "text": [
      "Собака по імені Рекс подружився з Кіт Мурка\n"
     ]
    }
   ],
   "source": [
    "b + c"
   ]
  },
  {
   "cell_type": "code",
   "execution_count": 36,
   "metadata": {},
   "outputs": [
    {
     "name": "stdout",
     "output_type": "stream",
     "text": [
      "Праве додавання між Домашній улюбленець Собака на імя Рекс та <__main__.BasicPet object at 0x00000197D4056CD0>\n",
      "<__main__.BasicPet object at 0x00000197D4056CD0> не може взаємодіяти з Собака\n",
      "<__main__.BasicPet object at 0x00000197D4056CD0> не може взаємодіяти з Собака\n"
     ]
    }
   ],
   "source": [
    "# Даний код буде створювати помилку бо клас BasicPet немає визначеного методу __radd__\n",
    "# Але після створенняцього методу у класі Pet ми зможемо здійснити праве додавання\n",
    "a + b\n",
    "# а от обернена операція вже буде виконуватись\n",
    "b + a\n",
    "# Ці два виклики є ідентичними\n",
    "b.__add__(a)"
   ]
  },
  {
   "cell_type": "code",
   "execution_count": 37,
   "metadata": {},
   "outputs": [
    {
     "name": "stdout",
     "output_type": "stream",
     "text": [
      "Робимо ділення\n",
      "Домашніх улюбленців ділити на числа не можна!\n"
     ]
    }
   ],
   "source": [
    "b / 2"
   ]
  },
  {
   "cell_type": "code",
   "execution_count": 38,
   "metadata": {},
   "outputs": [
    {
     "name": "stdout",
     "output_type": "stream",
     "text": [
      "Домашній улюбленець Рекс створює звуки: Гав\n",
      "Собака пробігла 5 метрів.\n",
      "<__main__.BasicPet object at 0x00000197D4056CD0> не може взаємодіяти з Собака\n"
     ]
    }
   ],
   "source": [
    "b + \"Гав\"\n",
    "\n",
    "b + 5\n",
    "\n",
    "b + a"
   ]
  },
  {
   "cell_type": "code",
   "execution_count": 39,
   "metadata": {},
   "outputs": [
    {
     "data": {
      "text/plain": [
       "'Щось нове'"
      ]
     },
     "execution_count": 39,
     "metadata": {},
     "output_type": "execute_result"
    }
   ],
   "source": [
    "b.name = \"Топік\"\n",
    "\n",
    "b.name\n",
    "# хоча ми можемо змінити/перезаписати вміст змінної, цього краще не робити бо атрибути з підкресленням є приватними\n",
    "b._secret = \"Щось нове\"\n",
    "\n",
    "b._secret"
   ]
  },
  {
   "cell_type": "code",
   "execution_count": 40,
   "metadata": {},
   "outputs": [
    {
     "data": {
      "text/plain": [
       "'Секрет базового класу: Це внутрішній супер секретний атрибут і Секрет цього класу: Собака погриз щось в хаті.'"
      ]
     },
     "execution_count": 40,
     "metadata": {},
     "output_type": "execute_result"
    }
   ],
   "source": [
    "# Напряму до атрибуту з подвійним підкресленням доступитись не можна\n",
    "#b.__super_secret\n",
    "# але ми можемо створити проперті та його вивести\n",
    "b.super_secret"
   ]
  },
  {
   "cell_type": "code",
   "execution_count": 41,
   "metadata": {},
   "outputs": [
    {
     "name": "stdout",
     "output_type": "stream",
     "text": [
      "Це методи для внутрішнього використання\n"
     ]
    },
    {
     "data": {
      "text/plain": [
       "'Тут можна доступатись до: <<Це методи для внутрішнього використання>> та <<Повністю прихований метод>>'"
      ]
     },
     "execution_count": 41,
     "metadata": {},
     "output_type": "execute_result"
    }
   ],
   "source": [
    "print(b._internal())\n",
    "# ми не можемо доступатись до приватних методів які мають плдвійне підкреслення, буде помилка\n",
    "#b.__super_internal()\n",
    "b.expose_internals()"
   ]
  },
  {
   "cell_type": "code",
   "execution_count": 42,
   "metadata": {},
   "outputs": [
    {
     "data": {
      "text/plain": [
       "'Повністю прихований метод'"
      ]
     },
     "execution_count": 42,
     "metadata": {},
     "output_type": "execute_result"
    }
   ],
   "source": [
    "# Доступитись до прихованих методів всетаки можна у наступний спосіб\n",
    "b._Pet__super_secret\n",
    "b._Pet__super_internal()\n",
    "# така можна робити тільки щоб подивитись що роблять такі приховані атрибути чи методи, але краще туди не лізти"
   ]
  },
  {
   "cell_type": "code",
   "execution_count": 43,
   "metadata": {},
   "outputs": [
    {
     "data": {
      "text/plain": [
       "'Це внутрішній супер секретний атрибут'"
      ]
     },
     "execution_count": 43,
     "metadata": {},
     "output_type": "execute_result"
    }
   ],
   "source": [
    "c._internal\n",
    "c.super_secret"
   ]
  },
  {
   "cell_type": "code",
   "execution_count": 44,
   "metadata": {},
   "outputs": [
    {
     "name": "stdout",
     "output_type": "stream",
     "text": [
      "Собака: Собака вміє гавкати. -> Топік починає гавкати. Гав-Гав\n",
      "Кіт: Кіт вміє мявкати. -> Мурка починає мявкати. Мяууу\n"
     ]
    }
   ],
   "source": [
    "# приклад наслідування\n",
    "print(f\"{b.breed}: {b.say()} -> {b.bark()}\")\n",
    "print(f\"{c.breed}: {c.say()} -> {c.meow()}\")"
   ]
  },
  {
   "cell_type": "code",
   "execution_count": 45,
   "metadata": {},
   "outputs": [
    {
     "name": "stdout",
     "output_type": "stream",
     "text": [
      "В базовому класі: Собака не вміє говорити.\n",
      "А в похідному класі: Собака вміє гавкати.\n",
      "А також інший клас: Кіт вміє мявкати.\n"
     ]
    }
   ],
   "source": [
    "# приклад поліморфізму\n",
    "print(f\"В базовому класі: {p.say()}\\nА в похідному класі: {b.say()}\\nА також інший клас: {c.say()}\")"
   ]
  },
  {
   "cell_type": "code",
   "execution_count": 46,
   "metadata": {},
   "outputs": [
    {
     "name": "stdout",
     "output_type": "stream",
     "text": [
      "В основному класі: Це внутрішній супер секретний атрибут\n",
      "В похідному класі: Секрет базового класу: Це внутрішній супер секретний атрибут і Секрет цього класу: Собака погриз щось в хаті.\n"
     ]
    }
   ],
   "source": [
    "# Тут ми зробили поліморфізм над атрибутами та властивостями\n",
    "print(f\"В основному класі: {p.super_secret}\\nВ похідному класі: {b.super_secret}\")"
   ]
  }
 ],
 "metadata": {
  "kernelspec": {
   "display_name": "Python 3",
   "language": "python",
   "name": "python3"
  },
  "language_info": {
   "codemirror_mode": {
    "name": "ipython",
    "version": 3
   },
   "file_extension": ".py",
   "mimetype": "text/x-python",
   "name": "python",
   "nbconvert_exporter": "python",
   "pygments_lexer": "ipython3",
   "version": "3.11.5"
  }
 },
 "nbformat": 4,
 "nbformat_minor": 2
}
